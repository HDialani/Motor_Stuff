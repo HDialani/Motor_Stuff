{
 "cells": [
  {
   "cell_type": "markdown",
   "id": "3dcc3696",
   "metadata": {},
   "source": [
    "# General"
   ]
  },
  {
   "cell_type": "markdown",
   "id": "fde53975",
   "metadata": {},
   "source": [
    "Simple DC machine model.\n",
    "\n",
    "<img src=\"Images/General/DC_Machine_Schematic.jpg\" width=600>\n",
    "\n",
    "<table><tr>\n",
    "<td> <img src=\"Images/General/DC_Machine.jpg\" width=300> </td>\n",
    "<td> <img src=\"Images/General/DC_Machine_Cross_Section.jpg\" width=370>[1] </td>\n",
    "</tr></table>"
   ]
  },
  {
   "cell_type": "markdown",
   "id": "6589684d",
   "metadata": {},
   "source": [
    "## Armature voltage equations\n",
    "Use Kirchoff's voltage law (KVL) <br>\n",
    "$$\n",
    "V_A=E_A+R_A\\cdot I_A+L_A\\cdot\\frac{d I_A}{dt}  [V]\\tag{1}\n",
    "$$"
   ]
  },
  {
   "cell_type": "markdown",
   "id": "476be895",
   "metadata": {},
   "source": [
    "## Electromotive force equations\n",
    "$$\n",
    "\\text{Electromotive force (EMF)}: E_A=\\frac{P \\cdot \\phi_f \\cdot n \\cdot Z}{60 A} [V]\n",
    "$$\n",
    "\n",
    "Where <br/>\n",
    "$P$ is number of poles <br/>\n",
    "$Z$ is number conductors <br/>\n",
    "$A$ is number parallel paths <br/>\n",
    "$n$ is speed of the motor [$RPM$] <br/>\n",
    "\n",
    "OR  <br/>\n",
    "since $\\omega_m=\\frac{2\\pi n}{60} [rad/s]$\n",
    "\n",
    "$$\n",
    "\\text{Electromotive force (EMF)}: E_A=\\frac{P \\cdot \\phi_f \\cdot \\omega_m \\cdot Z}{2\\pi A} [V]\n",
    "$$\n",
    "\n",
    "There are a lot of constants which could be lumped together this gives: \n",
    "$$\n",
    "K_a=\\frac{P Z}{2\\pi A}\n",
    "$$\n",
    "So now you get:\n",
    "$$\n",
    "\\text{Electromotive force (EMF)}: E_A= K_a\\cdot \\phi_f \\cdot \\omega_m [V] \\tag{2}\n",
    "$$"
   ]
  },
  {
   "cell_type": "markdown",
   "id": "023f6f5b",
   "metadata": {},
   "source": [
    "\n"
   ]
  },
  {
   "cell_type": "markdown",
   "id": "36315f2c",
   "metadata": {},
   "source": [
    "## Electromotive force equations proof"
   ]
  },
  {
   "cell_type": "markdown",
   "id": "fbb24313",
   "metadata": {},
   "source": [
    "### Assumptions:\n",
    "- Permeability ($\\mu_c$) of core is $\\infty$\n",
    "- Steady state"
   ]
  },
  {
   "cell_type": "markdown",
   "id": "5319394b",
   "metadata": {},
   "source": [
    "General form of Maxwell's equation for Ampere\n",
    "\n",
    "$$\n",
    "\\begin{array}{r}\n",
    "\\oint_L \\mathbf{H} \\cdot \\mathbf{d} \\mathbf{L}=I_{e n c}+\\iint_S \\frac{\\partial \\mathbf{D}}{\\partial t} \\cdot \\mathbf{d} \\mathbf{S} \\\\\n",
    "{\\left[I_{e n c}=\\iint_S \\mathbf{J} \\cdot \\mathbf{d S}\\right]}\n",
    "\\end{array}\n",
    "$$\n",
    "\n",
    "If I assume Magneto-quasistatic the time dependent term can be ignored. But can I do that? <br/>\n",
    "\n",
    "If $L \\omega_e <<\\frac{1}{\\sqrt{\\mu_0 \\mu_r \\epsilon_0 \\epsilon_r }}$ I can assume that.  <br/>\n",
    "\n",
    "Since the core has $\\infty$ permability I don't have to worry about it for Maxwell's equation so only the air gap is important. Air has $\\mu_r=1$ and $\\epsilon_r=1$ the other 2 are constants $\\epsilon_0=8.854187817 × 10^{-12} F/m$ and $\\mu_0=1.257 × 10^{-6} H/m$ \n",
    "\n",
    "Filling everything in gives: <br/>\n",
    "$L \\omega_e <<3 × 10^{5} km/s$. Typical wire length is around a few m and typical speed switching speed for motor controllers are either in $kHz$. So yeah I can assume Magneto-quasistatic \n",
    "\n",
    "So now assuming Maxwell's equation for Ampere in quasi-static gives \n",
    "\n",
    "$$\n",
    "\\begin{array}{r}\n",
    "\\oint_L \\mathbf{H} \\cdot \\mathbf{d} \\mathbf{L}=\\iint_S \\mathbf{J} \\cdot \\mathbf{d S} \\\\\n",
    "\\end{array}\n",
    "$$"
   ]
  },
  {
   "cell_type": "markdown",
   "id": "4b266073",
   "metadata": {},
   "source": [
    "Now I need to make a counter and for Amperes law\n",
    "<img src=\"Images/General/DC_Machine_Cross_Section_Counter.jpg\" width=300>[1]\n",
    "\n",
    "Now you get:\n",
    "$$\n",
    "2\\cdot H_{air} l_{air}+ H_{c} l_c= 2 Z I_a\n",
    "$$\n",
    "\n",
    "which can be rewritten as \n",
    "\n",
    "$$\n",
    "2\\cdot \\frac{B_{air}}{\\mu_0} l_{air}+ \\frac{B_{c}}{\\mu_0 \\cdot \\mu_c} l_c= 2 Z I_a\n",
    "$$\n",
    "\n",
    "Since it is assumed $\\mu_c=\\infty $\n",
    "$$\n",
    "B_{air}= \\frac{\\mu_0 Z I_a}{l_g}\n",
    "$$"
   ]
  },
  {
   "cell_type": "code",
   "execution_count": null,
   "id": "c8aab62f",
   "metadata": {},
   "outputs": [],
   "source": []
  },
  {
   "cell_type": "markdown",
   "id": "360367aa",
   "metadata": {},
   "source": [
    "\n",
    "Average turn voltage\n",
    "$$\n",
    "\\bar{e_t}=\\frac{P}{2\\pi} \\cdot \\phi_f \\cdot \\omega_m\n",
    "$$\n",
    "\n",
    "Combining everything gives \n",
    "$$\n",
    "E_a=\\frac{Z}{A}\\bar{e_t}= K_a\\cdot \\phi_f \\cdot \\omega_m\n",
    "$$"
   ]
  },
  {
   "cell_type": "code",
   "execution_count": null,
   "id": "91048309",
   "metadata": {},
   "outputs": [],
   "source": []
  },
  {
   "cell_type": "markdown",
   "id": "45db082c",
   "metadata": {},
   "source": [
    "## Torque equations"
   ]
  },
  {
   "cell_type": "markdown",
   "id": "ce6fa1fe",
   "metadata": {},
   "source": [
    "Only $E_a$ produces torque, $R_a$ produces heat and $L_a$ produces stored energy. It is assumed the bearings are ideal and there are no mechanical loss so $P_{e}=P_{m}$, which can be written as $E_a \\cdot I_a=T_{m} \\cdot \\omega_{m}$. Substituting $E_a$ from (2) into the equation gives \n",
    "$$\n",
    "T_m=\\frac{K_a\\cdot \\phi_f \\cdot \\omega_m \\cdot I_a}{\\omega_m}\n",
    "$$\n",
    "Which can be written as \n",
    "$$\n",
    "T_m=K_a\\cdot \\phi_f  \\cdot I_a\n",
    "$$\n"
   ]
  },
  {
   "cell_type": "markdown",
   "id": "7942ba4c",
   "metadata": {},
   "source": [
    "## Summarize equations\n",
    "$$\n",
    "T=K_a \\phi_f I_a\n",
    "$$\n",
    "$$\n",
    "E_a= \\omega_m K_a \\psi_f\n",
    "$$\n",
    "$$\n",
    "V_a= R_a I_a+ E_a\n",
    "$$"
   ]
  },
  {
   "cell_type": "markdown",
   "id": "2e107bec",
   "metadata": {},
   "source": [
    "# Torque-Speed curve\n",
    "\n",
    "$\\omega_m=\\frac{V_a}-\\frac{}"
   ]
  },
  {
   "cell_type": "markdown",
   "id": "6e7a3d61",
   "metadata": {},
   "source": [
    "# Resources"
   ]
  },
  {
   "cell_type": "markdown",
   "id": "fbb31779",
   "metadata": {},
   "source": [
    "[1]  Principles of electric machines and power electronics, by ‘P.C. Sen’, Third edition, New York: John Wiley and Sons, 2014\n",
    "(Third edition), ISBN: 9781118078877"
   ]
  },
  {
   "cell_type": "code",
   "execution_count": 3,
   "id": "f212969a",
   "metadata": {},
   "outputs": [
    {
     "ename": "ModuleNotFoundError",
     "evalue": "No module named 'plot_tools'",
     "output_type": "error",
     "traceback": [
      "\u001b[1;31m---------------------------------------------------------------------------\u001b[0m",
      "\u001b[1;31mModuleNotFoundError\u001b[0m                       Traceback (most recent call last)",
      "\u001b[1;32m~\\AppData\\Local\\Temp\\ipykernel_1520\\972118618.py\u001b[0m in \u001b[0;36m<module>\u001b[1;34m\u001b[0m\n\u001b[0;32m      2\u001b[0m \u001b[1;32mimport\u001b[0m \u001b[0mnumpy\u001b[0m \u001b[1;32mas\u001b[0m \u001b[0mnp\u001b[0m\u001b[1;33m\u001b[0m\u001b[1;33m\u001b[0m\u001b[0m\n\u001b[0;32m      3\u001b[0m \u001b[1;32mimport\u001b[0m \u001b[0mmatplotlib\u001b[0m\u001b[1;33m.\u001b[0m\u001b[0mpyplot\u001b[0m \u001b[1;32mas\u001b[0m \u001b[0mplt\u001b[0m\u001b[1;33m\u001b[0m\u001b[1;33m\u001b[0m\u001b[0m\n\u001b[1;32m----> 4\u001b[1;33m \u001b[1;32mfrom\u001b[0m \u001b[0mplot_tools\u001b[0m \u001b[1;32mimport\u001b[0m \u001b[0mplot_response\u001b[0m\u001b[1;33m\u001b[0m\u001b[1;33m\u001b[0m\u001b[0m\n\u001b[0m",
      "\u001b[1;31mModuleNotFoundError\u001b[0m: No module named 'plot_tools'"
     ]
    }
   ],
   "source": []
  },
  {
   "cell_type": "code",
   "execution_count": 4,
   "id": "4824508f",
   "metadata": {},
   "outputs": [
    {
     "data": {
      "text/latex": [
       "$$\\frac{2}{s + 3}$$"
      ],
      "text/plain": [
       "TransferFunction(array([2]), array([1, 3]))"
      ]
     },
     "metadata": {},
     "output_type": "display_data"
    }
   ],
   "source": []
  },
  {
   "cell_type": "code",
   "execution_count": 5,
   "id": "281e21c9",
   "metadata": {},
   "outputs": [
    {
     "data": {
      "text/latex": [
       "$$\\frac{6}{s + 9}$$"
      ],
      "text/plain": [
       "TransferFunction(array([6]), array([1, 9]))"
      ]
     },
     "metadata": {},
     "output_type": "display_data"
    }
   ],
   "source": []
  },
  {
   "cell_type": "code",
   "execution_count": 6,
   "id": "cd39d526",
   "metadata": {},
   "outputs": [],
   "source": []
  },
  {
   "cell_type": "code",
   "execution_count": 7,
   "id": "7036b590",
   "metadata": {},
   "outputs": [
    {
     "ename": "NameError",
     "evalue": "name 'plot_response' is not defined",
     "output_type": "error",
     "traceback": [
      "\u001b[1;31m---------------------------------------------------------------------------\u001b[0m",
      "\u001b[1;31mNameError\u001b[0m                                 Traceback (most recent call last)",
      "\u001b[1;32m~\\AppData\\Local\\Temp\\ipykernel_1520\\3162712203.py\u001b[0m in \u001b[0;36m<module>\u001b[1;34m\u001b[0m\n\u001b[1;32m----> 1\u001b[1;33m \u001b[0mfig\u001b[0m\u001b[1;33m,\u001b[0m \u001b[0max\u001b[0m \u001b[1;33m=\u001b[0m \u001b[0mplot_response\u001b[0m\u001b[1;33m(\u001b[0m\u001b[0mt\u001b[0m\u001b[1;33m,\u001b[0m \u001b[0mr\u001b[0m\u001b[1;33m,\u001b[0m \u001b[0mouty\u001b[0m\u001b[1;33m.\u001b[0m\u001b[0my\u001b[0m\u001b[1;33m[\u001b[0m\u001b[1;36m0\u001b[0m\u001b[1;33m]\u001b[0m\u001b[1;33m)\u001b[0m\u001b[1;33m;\u001b[0m\u001b[1;33m\u001b[0m\u001b[1;33m\u001b[0m\u001b[0m\n\u001b[0m\u001b[0;32m      2\u001b[0m \u001b[0mplt\u001b[0m\u001b[1;33m.\u001b[0m\u001b[0mshow\u001b[0m\u001b[1;33m(\u001b[0m\u001b[1;33m)\u001b[0m\u001b[1;33m\u001b[0m\u001b[1;33m\u001b[0m\u001b[0m\n",
      "\u001b[1;31mNameError\u001b[0m: name 'plot_response' is not defined"
     ]
    }
   ],
   "source": []
  },
  {
   "cell_type": "code",
   "execution_count": null,
   "id": "731022d1",
   "metadata": {},
   "outputs": [],
   "source": []
  }
 ],
 "metadata": {
  "authors": [
   {
    "name": "Author1"
   },
   {
    "name": "Author2"
   }
  ],
  "kernelspec": {
   "display_name": "Python 3 (ipykernel)",
   "language": "python",
   "name": "python3"
  },
  "language_info": {
   "codemirror_mode": {
    "name": "ipython",
    "version": 3
   },
   "file_extension": ".py",
   "mimetype": "text/x-python",
   "name": "python",
   "nbconvert_exporter": "python",
   "pygments_lexer": "ipython3",
   "version": "3.9.13"
  },
  "title": "My Title!",
  "toc": {
   "base_numbering": 1,
   "nav_menu": {},
   "number_sections": true,
   "sideBar": true,
   "skip_h1_title": false,
   "title_cell": "Table of Contents",
   "title_sidebar": "Contents",
   "toc_cell": false,
   "toc_position": {},
   "toc_section_display": true,
   "toc_window_display": false
  },
  "varInspector": {
   "cols": {
    "lenName": 16,
    "lenType": 16,
    "lenVar": 40
   },
   "kernels_config": {
    "python": {
     "delete_cmd_postfix": "",
     "delete_cmd_prefix": "del ",
     "library": "var_list.py",
     "varRefreshCmd": "print(var_dic_list())"
    },
    "r": {
     "delete_cmd_postfix": ") ",
     "delete_cmd_prefix": "rm(",
     "library": "var_list.r",
     "varRefreshCmd": "cat(var_dic_list()) "
    }
   },
   "types_to_exclude": [
    "module",
    "function",
    "builtin_function_or_method",
    "instance",
    "_Feature"
   ],
   "window_display": false
  }
 },
 "nbformat": 4,
 "nbformat_minor": 5
}
