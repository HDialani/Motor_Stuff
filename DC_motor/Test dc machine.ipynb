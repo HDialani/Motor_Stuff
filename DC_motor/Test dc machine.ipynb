{
 "cells": [
  {
   "cell_type": "code",
   "execution_count": 1,
   "id": "327b0996",
   "metadata": {},
   "outputs": [],
   "source": [
    "# from sympy import *\n",
    "# init_printing()\n",
    "from sympy import *\n",
    "import matplotlib.pyplot as plt\n",
    "import numpy as np\n",
    "import scipy"
   ]
  },
  {
   "cell_type": "code",
   "execution_count": 2,
   "id": "101dbe94",
   "metadata": {},
   "outputs": [],
   "source": [
    "# from sympy import Sum\n",
    "# Ra, La  = symbols('Ra, La')\n",
    "\n",
    "# F_net,a,m =symbols('F_net,a,m')\n",
    "# T_net,J =symbols('T_net,J')\n",
    "\n",
    "# Sum(Ra, (La, 1, Ra))\n",
    "\n",
    "# i = Symbol('i', integer=True)\n",
    "\n",
    "# Te = sympy.Symbol('Te')\n",
    "# T_load = sympy.Symbol('T_load')\n",
    "# J = sympy.Symbol('J')\n",
    "# F = sympy.Symbol('F')"
   ]
  },
  {
   "cell_type": "code",
   "execution_count": 3,
   "id": "73369f26",
   "metadata": {},
   "outputs": [
    {
     "name": "stdout",
     "output_type": "stream",
     "text": [
      "Newton's second law\n"
     ]
    },
    {
     "data": {
      "text/latex": [
       "$\\displaystyle  F_{net}= \\frac{\\partial v}{\\partial t} \\cdot m$"
      ],
      "text/plain": [
       " F_{net}= \\frac{\\partial v}{\\partial t} \\cdot m"
      ]
     },
     "metadata": {},
     "output_type": "display_data"
    }
   ],
   "source": [
    "print(\"Newton's second law\")\n",
    "F_net=Symbol(r' F_{net}= \\frac{\\partial v}{\\partial t} \\cdot m')\n",
    "display(F_net)"
   ]
  },
  {
   "cell_type": "code",
   "execution_count": 4,
   "id": "fcae395b",
   "metadata": {},
   "outputs": [
    {
     "name": "stdout",
     "output_type": "stream",
     "text": [
      "Circular motion version\n"
     ]
    },
    {
     "data": {
      "text/latex": [
       "$\\displaystyle  T_{net}= \\frac{\\partial \\omega_m}{\\partial t} \\cdot J$"
      ],
      "text/plain": [
       " T_{net}= \\frac{\\partial \\omega_m}{\\partial t} \\cdot J"
      ]
     },
     "metadata": {},
     "output_type": "display_data"
    }
   ],
   "source": [
    "print(\"Circular motion version\")\n",
    "T_net=Symbol(r' T_{net}= \\frac{\\partial \\omega_m}{\\partial t} \\cdot J')\n",
    "display(T_net)"
   ]
  },
  {
   "cell_type": "code",
   "execution_count": null,
   "id": "5a398055",
   "metadata": {},
   "outputs": [],
   "source": []
  }
 ],
 "metadata": {
  "kernelspec": {
   "display_name": "Python 3 (ipykernel)",
   "language": "python",
   "name": "python3"
  },
  "language_info": {
   "codemirror_mode": {
    "name": "ipython",
    "version": 3
   },
   "file_extension": ".py",
   "mimetype": "text/x-python",
   "name": "python",
   "nbconvert_exporter": "python",
   "pygments_lexer": "ipython3",
   "version": "3.9.13"
  },
  "toc": {
   "base_numbering": 1,
   "nav_menu": {},
   "number_sections": true,
   "sideBar": true,
   "skip_h1_title": false,
   "title_cell": "Table of Contents",
   "title_sidebar": "Contents",
   "toc_cell": false,
   "toc_position": {},
   "toc_section_display": true,
   "toc_window_display": false
  },
  "varInspector": {
   "cols": {
    "lenName": 16,
    "lenType": 16,
    "lenVar": 40
   },
   "kernels_config": {
    "python": {
     "delete_cmd_postfix": "",
     "delete_cmd_prefix": "del ",
     "library": "var_list.py",
     "varRefreshCmd": "print(var_dic_list())"
    },
    "r": {
     "delete_cmd_postfix": ") ",
     "delete_cmd_prefix": "rm(",
     "library": "var_list.r",
     "varRefreshCmd": "cat(var_dic_list()) "
    }
   },
   "types_to_exclude": [
    "module",
    "function",
    "builtin_function_or_method",
    "instance",
    "_Feature"
   ],
   "window_display": false
  }
 },
 "nbformat": 4,
 "nbformat_minor": 5
}
