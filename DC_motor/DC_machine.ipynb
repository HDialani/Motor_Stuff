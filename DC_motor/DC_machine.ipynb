{
 "cells": [
  {
   "cell_type": "markdown",
   "id": "8b6fd8ea",
   "metadata": {},
   "source": [
    "Author: Hitesh Dialani\n",
    "Date  : 3-Jan-2023"
   ]
  },
  {
   "cell_type": "markdown",
   "id": "3dcc3696",
   "metadata": {},
   "source": [
    "# General stuff"
   ]
  },
  {
   "cell_type": "markdown",
   "id": "fde53975",
   "metadata": {},
   "source": [
    "General model of a DC machine.\n",
    "\n",
    "<img src=\"Images/General/DC_Machine.jpg\" width=600>"
   ]
  },
  {
   "cell_type": "markdown",
   "id": "476be895",
   "metadata": {},
   "source": [
    "General equations for DC machine <br>\n",
    "$$\\label{eq:KVL}\n",
    "\\text{Armature voltage using KVL}: V_A=E_A+R_A\\cdot I_A+L_A\\cdot\\frac{d I_A}{dt} \n",
    "$$\n",
    "\n",
    "$$\\label{eq:EMF}\n",
    "\\text{Electromotive force (EMF)}: E_A=\\frac{P \\cdot \\psi \\cdot N \\cdot Z}{60 A}\n",
    "$$\n",
    "\n",
    "Where <br/>\n",
    "$P$ is number of poles <br/>\n",
    "$Z$ is number conductors <br/>\n",
    "$A$ is number parallel paths <br/>\n",
    "$N$ is speed of the motor [$RPM$] <br/>\n",
    "\n"
   ]
  },
  {
   "cell_type": "markdown",
   "id": "023f6f5b",
   "metadata": {},
   "source": [
    "\n"
   ]
  },
  {
   "cell_type": "markdown",
   "id": "4fd257c9",
   "metadata": {},
   "source": [
    "$$\\label{eq:Speed}\n",
    "\\text{Speed}:\\frac{d N}{dt}= \\frac{1}{2\\pi \\cdot J}(T_{e}-T_{Load}) \n",
    "$$\n",
    "\n",
    "$$ \\label{eq:Te}\n",
    "\\text{Electromechanical Torque}: T_{e}=C_{n}\\cdot I_{A}\\cdot \\psi \n",
    "$$\n",
    "\n",
    "$$\\label{eq:time_constant}\n",
    "\\text{Armature time constant}: t_A=\\frac{L_A}{R_A}\n",
    "$$"
   ]
  },
  {
   "cell_type": "code",
   "execution_count": null,
   "id": "c4810c64",
   "metadata": {},
   "outputs": [],
   "source": []
  }
 ],
 "metadata": {
  "kernelspec": {
   "display_name": "Python 3 (ipykernel)",
   "language": "python",
   "name": "python3"
  },
  "language_info": {
   "codemirror_mode": {
    "name": "ipython",
    "version": 3
   },
   "file_extension": ".py",
   "mimetype": "text/x-python",
   "name": "python",
   "nbconvert_exporter": "python",
   "pygments_lexer": "ipython3",
   "version": "3.9.13"
  },
  "toc": {
   "base_numbering": 1,
   "nav_menu": {},
   "number_sections": true,
   "sideBar": true,
   "skip_h1_title": false,
   "title_cell": "Table of Contents",
   "title_sidebar": "Contents",
   "toc_cell": false,
   "toc_position": {},
   "toc_section_display": true,
   "toc_window_display": false
  },
  "varInspector": {
   "cols": {
    "lenName": 16,
    "lenType": 16,
    "lenVar": 40
   },
   "kernels_config": {
    "python": {
     "delete_cmd_postfix": "",
     "delete_cmd_prefix": "del ",
     "library": "var_list.py",
     "varRefreshCmd": "print(var_dic_list())"
    },
    "r": {
     "delete_cmd_postfix": ") ",
     "delete_cmd_prefix": "rm(",
     "library": "var_list.r",
     "varRefreshCmd": "cat(var_dic_list()) "
    }
   },
   "types_to_exclude": [
    "module",
    "function",
    "builtin_function_or_method",
    "instance",
    "_Feature"
   ],
   "window_display": false
  }
 },
 "nbformat": 4,
 "nbformat_minor": 5
}
