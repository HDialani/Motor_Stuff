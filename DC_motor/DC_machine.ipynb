{
 "cells": [
  {
   "cell_type": "markdown",
   "id": "3dcc3696",
   "metadata": {},
   "source": [
    "# General stuff"
   ]
  },
  {
   "cell_type": "markdown",
   "id": "fde53975",
   "metadata": {},
   "source": [
    "General model of a DC machine.\n",
    "\n",
    "<img src=\"Images/General/DC_Machine.jpg\" width=600>"
   ]
  },
  {
   "cell_type": "markdown",
   "id": "476be895",
   "metadata": {},
   "source": [
    "## Armature voltage equations\n",
    "Use Kirchoff's voltage law (KVL) <br>\n",
    "$$\n",
    "V_A=E_A+R_A\\cdot I_A+L_A\\cdot\\frac{d I_A}{dt}  [V]\n",
    "$$\n",
    "\n",
    "## Electromotive force equations\n",
    "$$\n",
    "\\text{Electromotive force (EMF)}: E_A=\\frac{P \\cdot \\phi_f \\cdot N \\cdot Z}{60 A} [V]\n",
    "$$\n",
    "\n",
    "Where <br/>\n",
    "$P$ is number of poles <br/>\n",
    "$Z$ is number conductors <br/>\n",
    "$A$ is number parallel paths <br/>\n",
    "$N$ is speed of the motor [$RPM$] <br/>\n",
    "\n",
    "OR  <br/>\n",
    "since $\\omega_m=\\frac{2\\pi N}{60} [rad/s]$\n",
    "\n",
    "$$\n",
    "\\text{Electromotive force (EMF)}: E_A=\\frac{P \\cdot \\phi_f \\cdot \\omega_m \\cdot Z}{2\\pi A} [V]\n",
    "$$\n",
    "\n",
    "There are a lot of constants which could be lumped together this gives: \n",
    "$$\n",
    "K_a=\\frac{P Z}{2\\pi A}\n",
    "$$\n",
    "So now you get:\n",
    "$$\n",
    "\\text{Electromotive force (EMF)}: E_A= K_a\\cdot \\phi_f \\cdot \\omega_m [V]\n",
    "$$"
   ]
  },
  {
   "cell_type": "markdown",
   "id": "023f6f5b",
   "metadata": {},
   "source": [
    "\n"
   ]
  },
  {
   "cell_type": "markdown",
   "id": "bb7b8044",
   "metadata": {},
   "source": [
    "$$\\label{eq:Speed}\n",
    "\\text{Speed}:\\frac{d N}{dt}= \\frac{1}{2\\pi \\cdot J}(T_{e}-T_{Load}) \n",
    "$$\n",
    "\n",
    "$$ \\label{eq:Te}\n",
    "\\text{Electromechanical Torque}: T_{e}=C_{n}\\cdot I_{A}\\cdot \\psi \n",
    "$$\n",
    "\n",
    "$$\\label{eq:time_constant}\n",
    "\\text{Armature time constant}: t_A=\\frac{L_A}{R_A}\n",
    "$$"
   ]
  },
  {
   "cell_type": "code",
   "execution_count": null,
   "id": "7357921f",
   "metadata": {},
   "outputs": [],
   "source": []
  },
  {
   "cell_type": "markdown",
   "id": "ae36a771",
   "metadata": {},
   "source": [
    "# Resources"
   ]
  },
  {
   "cell_type": "code",
   "execution_count": null,
   "id": "d6ae33ee",
   "metadata": {},
   "outputs": [],
   "source": []
  }
 ],
 "metadata": {
  "authors": [
   {
    "name": "Author1"
   },
   {
    "name": "Author2"
   }
  ],
  "kernelspec": {
   "display_name": "Python 3 (ipykernel)",
   "language": "python",
   "name": "python3"
  },
  "language_info": {
   "codemirror_mode": {
    "name": "ipython",
    "version": 3
   },
   "file_extension": ".py",
   "mimetype": "text/x-python",
   "name": "python",
   "nbconvert_exporter": "python",
   "pygments_lexer": "ipython3",
   "version": "3.9.13"
  },
  "title": "My Title!",
  "toc": {
   "base_numbering": 1,
   "nav_menu": {},
   "number_sections": true,
   "sideBar": true,
   "skip_h1_title": false,
   "title_cell": "Table of Contents",
   "title_sidebar": "Contents",
   "toc_cell": false,
   "toc_position": {},
   "toc_section_display": true,
   "toc_window_display": false
  },
  "varInspector": {
   "cols": {
    "lenName": 16,
    "lenType": 16,
    "lenVar": 40
   },
   "kernels_config": {
    "python": {
     "delete_cmd_postfix": "",
     "delete_cmd_prefix": "del ",
     "library": "var_list.py",
     "varRefreshCmd": "print(var_dic_list())"
    },
    "r": {
     "delete_cmd_postfix": ") ",
     "delete_cmd_prefix": "rm(",
     "library": "var_list.r",
     "varRefreshCmd": "cat(var_dic_list()) "
    }
   },
   "types_to_exclude": [
    "module",
    "function",
    "builtin_function_or_method",
    "instance",
    "_Feature"
   ],
   "window_display": false
  }
 },
 "nbformat": 4,
 "nbformat_minor": 5
}
