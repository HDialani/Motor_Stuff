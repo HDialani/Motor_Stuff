{
 "cells": [
  {
   "cell_type": "code",
   "execution_count": 1,
   "id": "fb3ec472",
   "metadata": {},
   "outputs": [],
   "source": [
    "# from sympy import *\n",
    "# init_printing()\n",
    "from sympy import *\n",
    "import matplotlib.pyplot as plt\n",
    "import matplotlib.patches as patches\n",
    "import numpy as np\n",
    "import scipy"
   ]
  },
  {
   "cell_type": "code",
   "execution_count": 2,
   "id": "d73e78e7",
   "metadata": {},
   "outputs": [],
   "source": [
    "# from sympy import Sum\n",
    "# Ra, La  = symbols('Ra, La')\n",
    "\n",
    "# F_net,a,m =symbols('F_net,a,m')\n",
    "# T_net,J =symbols('T_net,J')\n",
    "\n",
    "# Sum(Ra, (La, 1, Ra))\n",
    "\n",
    "# i = Symbol('i', integer=True)\n",
    "\n",
    "# Te = sympy.Symbol('Te')\n",
    "# T_load = sympy.Symbol('T_load')\n",
    "# J = sympy.Symbol('J')\n",
    "# F = sympy.Symbol('F')"
   ]
  },
  {
   "cell_type": "code",
   "execution_count": 3,
   "id": "fc74275c",
   "metadata": {},
   "outputs": [
    {
     "name": "stdout",
     "output_type": "stream",
     "text": [
      "Newton's second law\n"
     ]
    },
    {
     "data": {
      "text/latex": [
       "$\\displaystyle  F_{net}= \\frac{\\partial v}{\\partial t} \\cdot m$"
      ],
      "text/plain": [
       " F_{net}= \\frac{\\partial v}{\\partial t} \\cdot m"
      ]
     },
     "metadata": {},
     "output_type": "display_data"
    }
   ],
   "source": [
    "print(\"Newton's second law\")\n",
    "display(Symbol(r' F_{net}= \\frac{\\partial v}{\\partial t} \\cdot m'))"
   ]
  },
  {
   "cell_type": "code",
   "execution_count": 4,
   "id": "2c19f606",
   "metadata": {},
   "outputs": [
    {
     "name": "stdout",
     "output_type": "stream",
     "text": [
      "Circular motion version\n"
     ]
    },
    {
     "data": {
      "text/latex": [
       "$\\displaystyle  T_{net}= \\frac{\\partial \\omega_m}{\\partial t} \\cdot J$"
      ],
      "text/plain": [
       " T_{net}= \\frac{\\partial \\omega_m}{\\partial t} \\cdot J"
      ]
     },
     "metadata": {},
     "output_type": "display_data"
    },
    {
     "name": "stdout",
     "output_type": "stream",
     "text": [
      "Adding up all the torque\n"
     ]
    },
    {
     "data": {
      "text/latex": [
       "$\\displaystyle  T_{net}= T_e-T_{load}-T_{static}-B_v \\cdot \\omega_m $"
      ],
      "text/plain": [
       " T_{net}= T_e-T_{load}-T_{static}-B_v \\cdot \\omega_m "
      ]
     },
     "metadata": {},
     "output_type": "display_data"
    },
    {
     "name": "stdout",
     "output_type": "stream",
     "text": [
      "Combining everything gives\n"
     ]
    },
    {
     "data": {
      "text/latex": [
       "$\\displaystyle  \\frac{\\partial \\omega_m}{\\partial t}=\\frac{T_e-T_{load}-T_{static}-B_v \\cdot \\omega_m}{J}$"
      ],
      "text/plain": [
       " \\frac{\\partial \\omega_m}{\\partial t}=\\frac{T_e-T_{load}-T_{static}-B_v \\cdot \\omega_m}{J}"
      ]
     },
     "metadata": {},
     "output_type": "display_data"
    },
    {
     "name": "stdout",
     "output_type": "stream",
     "text": [
      "I could attempt to do this with differential equation, but it would be easier to use Laplace\n"
     ]
    }
   ],
   "source": [
    "print(\"Circular motion version\")\n",
    "display(Symbol(r' T_{net}= \\frac{\\partial \\omega_m}{\\partial t} \\cdot J'))\n",
    "print(\"Adding up all the torque\")\n",
    "display(Symbol(r' T_{net}= T_e-T_{load}-T_{static}-B_v \\cdot \\omega_m '))\n",
    "print(\"Combining everything gives\")\n",
    "display(Symbol(r' \\frac{\\partial \\omega_m}{\\partial t}=\\frac{T_e-T_{load}-T_{static}-B_v \\cdot \\omega_m}{J}'))\n",
    "print(\"I could attempt to do this with differential equation, but it would be easier to use Laplace\")"
   ]
  },
  {
   "cell_type": "code",
   "execution_count": 5,
   "id": "1e76612c",
   "metadata": {},
   "outputs": [
    {
     "name": "stdout",
     "output_type": "stream",
     "text": [
      "  Bᵥ⋅ωₘ   Tₑ   T_load   T_static\n",
      "- ───── + ── - ────── - ────────\n",
      "    J     J      J         J    \n",
      "────────────────────────────────\n",
      "               s                \n"
     ]
    }
   ],
   "source": [
    "s = symbols('s')\n",
    "\n",
    "# Define the variables\n",
    "w_m, T_e, T_load, T_static, B_v, J, t = symbols('omega_m T_e T_load T_static B_v J t')\n",
    "\n",
    "# Define the equation\n",
    "eq = Eq(Derivative(w_m, t), (T_e - T_load - T_static - B_v * w_m) / J)\n",
    "\n",
    "# Extract the right-hand side of the equation\n",
    "rhs = eq.rhs\n",
    "\n",
    "# Compute the Laplace transform\n",
    "lt = laplace_transform(rhs, t, s, noconds=True)\n",
    "\n",
    "# Simplify the result\n",
    "lt = pretty(lt)\n",
    "\n",
    "# # Generate a LaTeX representation of the result\n",
    "# lt_latex = latex(lt)\n",
    "\n",
    "# Display the result\n",
    "print(lt)"
   ]
  },
  {
   "cell_type": "code",
   "execution_count": 6,
   "id": "fe68624a",
   "metadata": {},
   "outputs": [
    {
     "name": "stdout",
     "output_type": "stream",
     "text": [
      "The above code can be rewritten as:\n"
     ]
    },
    {
     "data": {
      "text/latex": [
       "$\\displaystyle  \\omega_m=\\frac{1}{J} \\frac{1}{s} (T_e - T_{load} - T_{static} - B_v * w_m) $"
      ],
      "text/plain": [
       " \\omega_m=\\frac{1}{J} \\frac{1}{s} (T_e - T_{load} - T_{static} - B_v * w_m) "
      ]
     },
     "metadata": {},
     "output_type": "display_data"
    },
    {
     "name": "stdout",
     "output_type": "stream",
     "text": [
      "I can assume that T_static=0\n"
     ]
    }
   ],
   "source": [
    "print(\"The above code can be rewritten as:\")\n",
    "display(Symbol(r' \\omega_m=\\frac{1}{J} \\frac{1}{s} (T_e - T_{load} - T_{static} - B_v * w_m) '))\n",
    "print(\"I can assume that T_static=0\")"
   ]
  },
  {
   "cell_type": "code",
   "execution_count": 7,
   "id": "59b1c676",
   "metadata": {},
   "outputs": [
    {
     "name": "stdout",
     "output_type": "stream",
     "text": [
      "Blocks representation\n"
     ]
    },
    {
     "data": {
      "image/png": "[encoded data removed]",
      "text/plain": [
       "<Figure size 640x480 with 1 Axes>"
      ]
     },
     "metadata": {},
     "output_type": "display_data"
    }
   ],
   "source": [
    "print(\"Blocks representation\")\n",
    "\n",
    "# Define s as a symbolic variable\n",
    "s = Symbol('s')\n",
    "\n",
    "# Create a figure and axis\n",
    "fig, ax = plt.subplots()\n",
    "\n",
    "# Displacement blocks variables\n",
    "X_origin=0\n",
    "Y_origin=0\n",
    "\n",
    "X_arrow_displacement=0.5\n",
    "Y_text_allign=0.5\n",
    "X_block_displacement=1\n",
    "Y_block_displacement=1\n",
    "\n",
    "# Output arrows\n",
    "arrow_output = patches.FancyArrowPatch((X_block_displacement, Y_text_allign), ( (2*X_arrow_displacement+X_block_displacement), Y_text_allign),mutation_scale=20, lw=1, arrowstyle='-|>', color='k')\n",
    "ax.add_patch(arrow_output)\n",
    "ax.text((X_arrow_displacement+X_block_displacement), 0.6, r'$\\omega_m(S)$', ha='center', va='center')\n",
    "\n",
    "# 1/s block\n",
    "block_x = [X_origin, X_block_displacement, X_block_displacement, X_origin,X_origin]\n",
    "block_y = [Y_origin, Y_origin, Y_block_displacement, Y_block_displacement,Y_origin]\n",
    "ax.plot(block_x, block_y, 'k-')\n",
    "ax.text(0.5, 0.5, r'$\\frac{1}{s}$', ha='center', va='center', fontsize=16)\n",
    "\n",
    "# Arrow to 1/s block\n",
    "arrow_output = patches.FancyArrowPatch((-X_arrow_displacement, Y_text_allign), (0.05, Y_text_allign),mutation_scale=20, lw=1, arrowstyle='-|>', color='k')\n",
    "ax.add_patch(arrow_output)\n",
    "ax.text( -(X_arrow_displacement/2), 0.6, r'$G_2(S)$', ha='center', va='center')\n",
    "\n",
    "# 1/J gain triangle\n",
    "block_x = [-(2*X_arrow_displacement), -X_arrow_displacement,-(2*X_arrow_displacement),-(2*X_arrow_displacement)]\n",
    "block_y = [Y_origin, Y_text_allign,Y_block_displacement,Y_origin]\n",
    "ax.plot(block_x, block_y, 'k-')\n",
    "ax.text(-0.8, Y_text_allign, r'$\\frac{1}{J}$', ha='center', va='center', fontsize=16)\n",
    "\n",
    "# Arrow to 1/J gain triangle\n",
    "arrow_output = patches.FancyArrowPatch((-(3*X_arrow_displacement), Y_text_allign), (-0.95, Y_text_allign),mutation_scale=20, lw=1, arrowstyle='-|>', color='k')\n",
    "ax.add_patch(arrow_output)\n",
    "ax.text( -(X_block_displacement+X_arrow_displacement/2), 0.6, r'$G_1(S)$', ha='center', va='center')\n",
    "\n",
    "# Sum/Subtract block\n",
    "block_x = [-(3*X_arrow_displacement+X_block_displacement), -(3*X_arrow_displacement), -(3*X_arrow_displacement),-(3*X_arrow_displacement+X_block_displacement),-(3*X_arrow_displacement+X_block_displacement)]\n",
    "block_y = [Y_origin, Y_origin, Y_block_displacement, Y_block_displacement,Y_origin]\n",
    "ax.plot(block_x, block_y, 'k-')\n",
    "ax.text(-2*X_block_displacement, 0.8, '+', ha='center', va='center', fontsize=16)\n",
    "ax.text(-2*X_block_displacement, 0.5, '-', ha='center', va='center', fontsize=16)\n",
    "ax.text(-2*X_block_displacement, 0.2, '-', ha='center', va='center', fontsize=16)\n",
    "\n",
    "# Te block\n",
    "block_x = [-(4*X_arrow_displacement+2*X_block_displacement), -(4*X_arrow_displacement+X_block_displacement), -(4*X_arrow_displacement+X_block_displacement), -(4*X_arrow_displacement+2*X_block_displacement),-(4*X_arrow_displacement+2*X_block_displacement)]\n",
    "block_y = [0.65, 0.65, 1, 1,0.65]\n",
    "ax.plot(block_x, block_y, 'k-')\n",
    "ax.text(-3.5, 0.8, r'$T_e(s)$', ha='center', va='center', fontsize=16)\n",
    "\n",
    "# Arrow from Te\n",
    "arrow_input = patches.FancyArrowPatch((-(4*X_arrow_displacement+X_block_displacement), 0.8), (-2.45, 0.8),mutation_scale=20, lw=1, arrowstyle='-|>', color='k')\n",
    "ax.add_patch(arrow_input)\n",
    "\n",
    "# T_load block\n",
    "block_x = [-(4*X_arrow_displacement+2*X_block_displacement), -(4*X_arrow_displacement+X_block_displacement), -(4*X_arrow_displacement+X_block_displacement), -(4*X_arrow_displacement+2*X_block_displacement),-(4*X_arrow_displacement+2*X_block_displacement)]\n",
    "block_y = [0.4, 0.4, 0.65, 0.65,0.4]\n",
    "ax.plot(block_x, block_y, 'k-')\n",
    "ax.text(-3.5, 0.5, r'$T_{load}$', ha='center', va='center', fontsize=16)\n",
    "\n",
    "# Arrow from Te\n",
    "arrow_input = patches.FancyArrowPatch((-(4*X_arrow_displacement+X_block_displacement), Y_text_allign), (-2.45, Y_text_allign),mutation_scale=20, lw=1, arrowstyle='-|>', color='k')\n",
    "ax.add_patch(arrow_input)\n",
    "\n",
    "# Bv gain triangle\n",
    "block_x = [-(X_arrow_displacement), -(X_block_displacement),-(X_arrow_displacement),-(X_arrow_displacement)]\n",
    "block_y = [Y_origin-Y_block_displacement, Y_text_allign-Y_block_displacement,Y_block_displacement-Y_block_displacement,Y_origin-Y_block_displacement]\n",
    "ax.plot(block_x, block_y, 'k-')\n",
    "ax.text(-0.7, Y_text_allign-Y_block_displacement, r'$B_V$', ha='center', va='center', fontsize=16)\n",
    "\n",
    "# Arrow from Bv\n",
    "arrow_input = patches.FancyArrowPatch((-(4*X_arrow_displacement+X_block_displacement), 0.2), (-2.45, 0.2),mutation_scale=20, lw=1, arrowstyle='-|>', color='k')\n",
    "ax.add_patch(arrow_input)\n",
    "block_x = [-(4*X_arrow_displacement+X_block_displacement-0.03), -(4*X_arrow_displacement+X_block_displacement-0.03), -X_block_displacement]\n",
    "block_y = [0.2, -Y_text_allign, -Y_text_allign]\n",
    "ax.plot(block_x, block_y, 'k-')\n",
    "ax.text( -(X_block_displacement+X_arrow_displacement/2), -0.4, r'$G_3(S)$', ha='center', va='center')\n",
    "\n",
    "# Arrow to Bv\n",
    "arrow_output = patches.FancyArrowPatch((-0.05, -Y_text_allign), (-(X_arrow_displacement+0.08), -Y_text_allign),mutation_scale=20, lw=1, arrowstyle='-|>', color='k')\n",
    "ax.add_patch(arrow_output)\n",
    "block_x = [ (X_arrow_displacement+X_block_displacement),  (X_arrow_displacement+X_block_displacement)  , (X_arrow_displacement-X_block_displacement)  ]\n",
    "block_y = [ Y_text_allign, -Y_text_allign , -Y_text_allign ]\n",
    "ax.plot(block_x, block_y, 'k-')\n",
    "\n",
    "# Set the axis limits\n",
    "ax.set_xlim((-5, 2))\n",
    "ax.set_ylim((-1.5, 1.5))\n",
    "\n",
    "# Remove the axis labels and ticks\n",
    "ax.set_xticks([])\n",
    "ax.set_yticks([])\n",
    "ax.axis('off')\n",
    "\n",
    "# Show the figure\n",
    "plt.show()"
   ]
  },
  {
   "cell_type": "code",
   "execution_count": 8,
   "id": "195637e3",
   "metadata": {},
   "outputs": [
    {
     "name": "stdout",
     "output_type": "stream",
     "text": [
      "Transfer function omega_m=\n",
      "\n",
      "(T_e - T_load)/(B_v + J*S)\n"
     ]
    }
   ],
   "source": [
    "print(\"Transfer function omega_m=\")\n",
    "print(\"\")\n",
    "\n",
    "(T_e, T_load, G1, G2, G3, omega_m,\n",
    " S, J,B_v ) = symbols('T_e, T_load, G1, G2, G3, omega_m,'\n",
    "                                         'J,S, B_v')\n",
    "unknowns = G1, G2, G3, omega_m\n",
    "\n",
    "eqs = [# Blocks\n",
    "       G2- G1/J,\n",
    "       omega_m- G2/S,\n",
    "       G3- omega_m* B_v,\n",
    "       # Sums\n",
    "       G1 - (T_e - T_load-G3),\n",
    "       ]\n",
    "\n",
    "sol = solve(eqs, unknowns)\n",
    "\n",
    "sol[omega_m].factor()\n",
    "print(sol[omega_m].factor())\n",
    "\n"
   ]
  },
  {
   "cell_type": "code",
   "execution_count": 9,
   "id": "6ef5dd5a",
   "metadata": {},
   "outputs": [
    {
     "name": "stdout",
     "output_type": "stream",
     "text": [
      "Which can be written as\n"
     ]
    },
    {
     "data": {
      "text/latex": [
       "$\\displaystyle \\frac{\\omega_m}{T_e - T_{load}}= \\frac{1}{B_v \\cdot J \\cdot s} $"
      ],
      "text/plain": [
       "\\frac{\\omega_m}{T_e - T_{load}}= \\frac{1}{B_v \\cdot J \\cdot s} "
      ]
     },
     "metadata": {},
     "output_type": "display_data"
    }
   ],
   "source": [
    "print('Which can be written as' )\n",
    "display(Symbol(r'\\frac{\\omega_m}{T_e - T_{load}}= \\frac{1}{B_v \\cdot J \\cdot s} '))"
   ]
  },
  {
   "cell_type": "code",
   "execution_count": null,
   "id": "0d72e053",
   "metadata": {},
   "outputs": [],
   "source": []
  }
 ],
 "metadata": {
  "kernelspec": {
   "display_name": "Python 3 (ipykernel)",
   "language": "python",
   "name": "python3"
  },
  "language_info": {
   "codemirror_mode": {
    "name": "ipython",
    "version": 3
   },
   "file_extension": ".py",
   "mimetype": "text/x-python",
   "name": "python",
   "nbconvert_exporter": "python",
   "pygments_lexer": "ipython3",
   "version": "3.9.13"
  },
  "toc": {
   "base_numbering": 1,
   "nav_menu": {},
   "number_sections": true,
   "sideBar": true,
   "skip_h1_title": false,
   "title_cell": "Table of Contents",
   "title_sidebar": "Contents",
   "toc_cell": false,
   "toc_position": {},
   "toc_section_display": true,
   "toc_window_display": false
  },
  "varInspector": {
   "cols": {
    "lenName": 16,
    "lenType": 16,
    "lenVar": 40
   },
   "kernels_config": {
    "python": {
     "delete_cmd_postfix": "",
     "delete_cmd_prefix": "del ",
     "library": "var_list.py",
     "varRefreshCmd": "print(var_dic_list())"
    },
    "r": {
     "delete_cmd_postfix": ") ",
     "delete_cmd_prefix": "rm(",
     "library": "var_list.r",
     "varRefreshCmd": "cat(var_dic_list()) "
    }
   },
   "types_to_exclude": [
    "module",
    "function",
    "builtin_function_or_method",
    "instance",
    "_Feature"
   ],
   "window_display": false
  }
 },
 "nbformat": 4,
 "nbformat_minor": 5
}
